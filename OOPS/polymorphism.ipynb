{
 "cells": [
  {
   "cell_type": "markdown",
   "metadata": {},
   "source": [
    "### ***Polymorphism*** \n",
    "_It is a core concept in OOP that allow objects of different classes to be treated as object of common superclass._\n",
    "\\\n",
    "_It provides way to perform single action in different forms._\n",
    "\\\n",
    "_Polymorphism is typically achieved through method overriding and interfaces._"
   ]
  },
  {
   "cell_type": "markdown",
   "metadata": {},
   "source": [
    "### ***Method Overriding***\n",
    "_Method Overriding allows a child class to provide a <u>specific implementation of a method that is already defined in its parent class</u>._"
   ]
  },
  {
   "cell_type": "code",
   "execution_count": 4,
   "metadata": {},
   "outputs": [
    {
     "name": "stdout",
     "output_type": "stream",
     "text": [
      "Woof Woof!\n",
      "Meow!\n",
      "Meow!\n"
     ]
    }
   ],
   "source": [
    "# Base Class\n",
    "class Animal:\n",
    "    def speak(self) -> str:\n",
    "        return \"Sound of the animal\"\n",
    "\n",
    "#Derive Class 1\n",
    "class Dog(Animal):\n",
    "    def speak(self) -> str:\n",
    "        return \"Woof Woof!\"\n",
    "\n",
    "#Derive Class 2\n",
    "class Cat(Animal):\n",
    "    def speak(self) -> str:\n",
    "        return \"Meow!\"\n",
    "\n",
    "#Function that demonstrates Polymorphism\n",
    "def animal_speak(animal: Animal) -> None:\n",
    "    print(animal.speak())\n",
    "\n",
    "dog=Dog()\n",
    "cat=Cat()\n",
    "print(dog.speak())\n",
    "print(cat.speak())\n",
    "animal_speak(cat)\n"
   ]
  },
  {
   "cell_type": "code",
   "execution_count": 7,
   "metadata": {},
   "outputs": [
    {
     "name": "stdout",
     "output_type": "stream",
     "text": [
      "The Area is : 20\n",
      "The Area is : 28.26\n"
     ]
    }
   ],
   "source": [
    "# Polymorphism with functions and methods\n",
    "# Base Class\n",
    "class Shape:\n",
    "    def area(self) -> str:\n",
    "        return \"The Area of the Figure\"\n",
    "    \n",
    "# Derive Class 1\n",
    "class Rectange(Shape):\n",
    "    def __init__(self,width,height) -> None:\n",
    "        self.width: int=width\n",
    "        self.height: int=height\n",
    "\n",
    "    def area(self) -> int:\n",
    "        return self.width*self.height\n",
    "\n",
    "#Derive Class 2\n",
    "class Circle(Shape):\n",
    "    def __init__(self,radius) -> None:\n",
    "        self.radius: int=radius\n",
    "\n",
    "    def area(self) -> float:\n",
    "        return 3.14*self.radius**2\n",
    "\n",
    "#Function that demonstrates Polymorphism\n",
    "\n",
    "def print_area(Shape) -> None:\n",
    "    print(f\"The Area is : {Shape.area()}\")\n",
    "\n",
    "rectangle=Rectange(4,5)\n",
    "circle=Circle(3)\n",
    "\n",
    "print_area(rectangle)\n",
    "print_area(circle)"
   ]
  },
  {
   "cell_type": "markdown",
   "metadata": {},
   "source": [
    "### ***Polymorphism with Abstract Base Class***\n",
    "_Abstract Base Class are used to define common methods for a group of related objects._\n",
    "\\\n",
    "_They can enforce that derive classes implement particular methods, promoting consistency across different implementations._"
   ]
  },
  {
   "cell_type": "code",
   "execution_count": 10,
   "metadata": {},
   "outputs": [
    {
     "name": "stdout",
     "output_type": "stream",
     "text": [
      "Car engine started\n"
     ]
    }
   ],
   "source": [
    "# Polymorphism Abstract Base Class ( Interfaces )\n",
    "from abc import ABC, abstractmethod\n",
    "\n",
    "#Define an abstract class\n",
    "class Vehicle(ABC):\n",
    "    @abstractmethod\n",
    "    def startengine(self) -> None:\n",
    "        pass\n",
    "\n",
    "#Derive Class 1\n",
    "class Car(Vehicle):\n",
    "    def startengine(self) -> str:\n",
    "        return \"Car engine started\"\n",
    "\n",
    "#Derive Class 2\n",
    "class Motorcycle(Vehicle):\n",
    "    def startengine(self) -> str:\n",
    "        return \"Motorcycle engine started\"\n",
    "\n",
    "#Function that demonstrates polymorphism\n",
    "def start_vehicle(vehicle) -> None:\n",
    "    print(vehicle.startengine())\n",
    "\n",
    "#Create objects of class Car and Motorcycle\n",
    "car=Car()\n",
    "motor=Motorcycle()\n",
    "\n",
    "start_vehicle(car)"
   ]
  },
  {
   "cell_type": "code",
   "execution_count": null,
   "metadata": {},
   "outputs": [],
   "source": []
  }
 ],
 "metadata": {
  "kernelspec": {
   "display_name": "Python 3",
   "language": "python",
   "name": "python3"
  },
  "language_info": {
   "codemirror_mode": {
    "name": "ipython",
    "version": 3
   },
   "file_extension": ".py",
   "mimetype": "text/x-python",
   "name": "python",
   "nbconvert_exporter": "python",
   "pygments_lexer": "ipython3",
   "version": "3.12.4"
  }
 },
 "nbformat": 4,
 "nbformat_minor": 2
}
