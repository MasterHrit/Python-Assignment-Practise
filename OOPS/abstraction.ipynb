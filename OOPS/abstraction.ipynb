{
 "cells": [
  {
   "cell_type": "markdown",
   "metadata": {},
   "source": [
    "### _Abstraction_\n",
    "- Hiding of Complex Details and only showing the important/necessary details"
   ]
  },
  {
   "cell_type": "code",
   "execution_count": 2,
   "metadata": {},
   "outputs": [
    {
     "name": "stdout",
     "output_type": "stream",
     "text": [
      "Car engine started.\n",
      "The Vehicle is used for driving.\n"
     ]
    }
   ],
   "source": [
    "from abc import ABC,abstractmethod #abstract class\n",
    "\n",
    "# Abstract Base Class\n",
    "class Vehicle(ABC):\n",
    "    def drive(self):\n",
    "        print(\"The Vehicle is used for driving.\")\n",
    "    \n",
    "    @abstractmethod\n",
    "    def start_engine(self):\n",
    "        pass\n",
    "\n",
    "class Car(Vehicle):\n",
    "    def start_engine(self):\n",
    "        print(\"Car engine started.\")\n",
    "    \n",
    "def operate_vehicle(vehicle):\n",
    "    vehicle.start_engine()\n",
    "    vehicle.drive()\n",
    "car=Car()\n",
    "operate_vehicle(car)"
   ]
  }
 ],
 "metadata": {
  "kernelspec": {
   "display_name": "Python 3",
   "language": "python",
   "name": "python3"
  },
  "language_info": {
   "codemirror_mode": {
    "name": "ipython",
    "version": 3
   },
   "file_extension": ".py",
   "mimetype": "text/x-python",
   "name": "python",
   "nbconvert_exporter": "python",
   "pygments_lexer": "ipython3",
   "version": "3.12.4"
  }
 },
 "nbformat": 4,
 "nbformat_minor": 2
}
