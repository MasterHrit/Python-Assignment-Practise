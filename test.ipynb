{
 "cells": [
  {
   "cell_type": "code",
   "execution_count": 3,
   "metadata": {},
   "outputs": [
    {
     "data": {
      "text/plain": [
       "[0, 1, 2, 3, 4, 5, 6, 7]"
      ]
     },
     "execution_count": 3,
     "metadata": {},
     "output_type": "execute_result"
    }
   ],
   "source": [
    "arr=[i for i in range(8)]\n",
    "arr"
   ]
  },
  {
   "cell_type": "code",
   "execution_count": 5,
   "metadata": {},
   "outputs": [
    {
     "name": "stdout",
     "output_type": "stream",
     "text": [
      "7\n"
     ]
    }
   ],
   "source": [
    "nums=[1,2,3,4,5,6,0]\n",
    "for i in arr:\n",
    "    if(i not in nums):\n",
    "        print(i)"
   ]
  },
  {
   "cell_type": "code",
   "execution_count": 6,
   "metadata": {},
   "outputs": [
    {
     "data": {
      "text/plain": [
       "4"
      ]
     },
     "execution_count": 6,
     "metadata": {},
     "output_type": "execute_result"
    }
   ],
   "source": [
    "l1=[1,2,3,4]\n",
    "l1[-1]"
   ]
  },
  {
   "cell_type": "code",
   "execution_count": 7,
   "metadata": {},
   "outputs": [
    {
     "data": {
      "text/plain": [
       "1"
      ]
     },
     "execution_count": 7,
     "metadata": {},
     "output_type": "execute_result"
    }
   ],
   "source": [
    "l1=[1]\n",
    "l1[-1]"
   ]
  },
  {
   "cell_type": "code",
   "execution_count": 15,
   "metadata": {},
   "outputs": [
    {
     "name": "stdout",
     "output_type": "stream",
     "text": [
      "[[1], [1, 1], [1, 2, 1], [1, 3, 3, 1], [1, 4, 6, 4, 1]]\n"
     ]
    }
   ],
   "source": [
    "#Pascal Triangle 2D List\n",
    "from copy import deepcopy\n",
    "mainlist=[[1]]\n",
    "rows=int(input(\"Enter the number of rows :\"))\n",
    "for i in range(rows-1):\n",
    "    if(i<1):\n",
    "        mainlist.append(mainlist[-1]+[1])\n",
    "    else:\n",
    "        l1=[1,1]\n",
    "        for j in range(0,len(mainlist[-1])-1):\n",
    "            l1.insert(j+1,mainlist[-1][j]+mainlist[-1][j+1])\n",
    "        mainlist.append(l1)\n",
    "print(mainlist)"
   ]
  },
  {
   "cell_type": "code",
   "execution_count": 20,
   "metadata": {},
   "outputs": [],
   "source": [
    "i=6\n",
    "assert i==6\n",
    "# will throw assertion error if not equal"
   ]
  },
  {
   "cell_type": "code",
   "execution_count": 10,
   "metadata": {},
   "outputs": [
    {
     "data": {
      "text/plain": [
       "True"
      ]
     },
     "execution_count": 10,
     "metadata": {},
     "output_type": "execute_result"
    }
   ],
   "source": [
    "def is_sorted(arr):\n",
    "    \"\"\"\n",
    "    Function to check if the given array is sorted in non-decreasing order.\n",
    "    :param arr: List[int] -> A list of integers\n",
    "    :return: bool -> True if the array is sorted, False otherwise\n",
    "    \"\"\"\n",
    "    # TODO: Implement this function\n",
    "    from copy import deepcopy\n",
    "    arr2=deepcopy(arr)\n",
    "    arr.sort(reverse=False)\n",
    "    if(arr2==arr):\n",
    "        return True\n",
    "    else:\n",
    "        return False\n",
    "    '''for ai,bi in zip(arr,arr2):\n",
    "        if(ai!=bi):\n",
    "            return False\n",
    "    return True'''\n",
    "is_sorted([1,2,3,4])"
   ]
  },
  {
   "cell_type": "code",
   "execution_count": 18,
   "metadata": {},
   "outputs": [
    {
     "name": "stdout",
     "output_type": "stream",
     "text": [
      "[[1, 0, 0], [1, 1, 0], [1, 0, 0]]\n",
      "[[1, 1, 1], [0, 1, 0], [0, 0, 0]]\n",
      "\n",
      "\n",
      "[[1, 1, 1], [0, 1, 0], [0, 0, 0]]\n",
      "[[1, 1, 1], [0, 1, 0], [0, 0, 0]]\n",
      "\n",
      "\n",
      "True\n"
     ]
    }
   ],
   "source": [
    "class Solution:\n",
    "    def findRotation(self, mat: list[list[int]], target: list[list[int]]) -> bool:\n",
    "        from copy import deepcopy\n",
    "        matcopy=deepcopy(mat)\n",
    "        rotated_matrix=[]\n",
    "        while rotated_matrix!=matcopy:\n",
    "            rotated_matrix=[]\n",
    "            for j in range(len(mat[0])):\n",
    "                l1=[]\n",
    "                for i in range(len(mat)-1,-1,-1):\n",
    "                    l1.append(mat[i][j])\n",
    "                rotated_matrix.append(l1)\n",
    "            mat=rotated_matrix\n",
    "            flag=0\n",
    "            print(rotated_matrix,\"\\n\",target,\"\\n\\n\",sep=\"\")\n",
    "            for ai,bi in zip(rotated_matrix,target):\n",
    "                if(ai!=bi):\n",
    "                    flag=1\n",
    "            if(flag==0):\n",
    "                return True\n",
    "        return False\n",
    "        '''if(rotated_matrix==mat):\n",
    "                return True\n",
    "        return False'''\n",
    "solution=Solution()\n",
    "print(solution.findRotation([[0,0,0],[0,1,0],[1,1,1]],[[1,1,1],[0,1,0],[0,0,0]]))"
   ]
  },
  {
   "cell_type": "code",
   "execution_count": 6,
   "metadata": {},
   "outputs": [
    {
     "name": "stdout",
     "output_type": "stream",
     "text": [
      "\n"
     ]
    }
   ],
   "source": [
    "s=\"hritik\""
   ]
  },
  {
   "cell_type": "code",
   "execution_count": 2,
   "metadata": {},
   "outputs": [],
   "source": [
    "dict={1:'a',2:'b'}\n",
    "if(len(dict)==1):\n",
    "    pass"
   ]
  },
  {
   "cell_type": "code",
   "execution_count": 3,
   "metadata": {},
   "outputs": [
    {
     "data": {
      "text/plain": [
       "1"
      ]
     },
     "execution_count": 3,
     "metadata": {},
     "output_type": "execute_result"
    }
   ],
   "source": [
    "values=list(dict.keys())\n",
    "values[0]"
   ]
  },
  {
   "cell_type": "code",
   "execution_count": 4,
   "metadata": {},
   "outputs": [],
   "source": [
    "if(len(dict)==1 and values[0]>1):\n",
    "    pass"
   ]
  },
  {
   "cell_type": "code",
   "execution_count": null,
   "metadata": {},
   "outputs": [],
   "source": []
  }
 ],
 "metadata": {
  "kernelspec": {
   "display_name": "Python 3",
   "language": "python",
   "name": "python3"
  },
  "language_info": {
   "codemirror_mode": {
    "name": "ipython",
    "version": 3
   },
   "file_extension": ".py",
   "mimetype": "text/x-python",
   "name": "python",
   "nbconvert_exporter": "python",
   "pygments_lexer": "ipython3",
   "version": "3.12.4"
  }
 },
 "nbformat": 4,
 "nbformat_minor": 2
}
