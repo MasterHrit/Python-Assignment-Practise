{
 "cells": [
  {
   "cell_type": "code",
   "execution_count": 5,
   "metadata": {},
   "outputs": [
    {
     "name": "stdout",
     "output_type": "stream",
     "text": [
      "5\n"
     ]
    }
   ],
   "source": [
    "def printNumFive(num):\n",
    "    print(num)\n",
    "\n",
    "printNumFive(5)\n",
    "\n",
    "#Use above function and a single print statement to print from 5 to 1"
   ]
  },
  {
   "cell_type": "code",
   "execution_count": 8,
   "metadata": {},
   "outputs": [
    {
     "name": "stdout",
     "output_type": "stream",
     "text": [
      "5\n",
      "4\n",
      "3\n",
      "2\n",
      "1\n"
     ]
    }
   ],
   "source": [
    "# Recursion\n",
    "#Function calling itself to perform same operation\n",
    "#Condition for function to stop to call recursuve again(can return till where we need to use the function)\n",
    "\n",
    "def printNum(num):\n",
    "    print(num)\n",
    "    if(num==1):\n",
    "        return\n",
    "    printNum(num-1)\n",
    "\n",
    "printNum(5)"
   ]
  },
  {
   "cell_type": "markdown",
   "metadata": {},
   "source": [
    "### Understanding\n",
    "- Functions wait in the memory till they are resolved\n",
    "- When a function finishes its execution, then it comes of program and gets deleted from memory\n"
   ]
  },
  {
   "cell_type": "markdown",
   "metadata": {},
   "source": [
    "### Recursion is a function that calls itself\n",
    "_Recursion is when solution of my problem depends on same smaller problem_"
   ]
  },
  {
   "cell_type": "code",
   "execution_count": 17,
   "metadata": {},
   "outputs": [
    {
     "name": "stdout",
     "output_type": "stream",
     "text": [
      "120\n"
     ]
    }
   ],
   "source": [
    "# Factorial of a number\n",
    "# fact(n) =n! = n*(n-1)*(n-2)*...*2*1\n",
    "# fact(n) = n! = n*(n-1)!\n",
    "# fact(n) = n*fact(n-1)\n",
    "# fact(n-1)=n-1*n-2*..2*1\n",
    "# fact(n-1)=(n-1)*(n-2)!\n",
    "import sys\n",
    "sys.setrecursionlimit(40)\n",
    "def factorial(num):\n",
    "    if(num==1):\n",
    "        return 1\n",
    "    smallAns=factorial(num-1)\n",
    "    ans=num*smallAns\n",
    "    return ans\n",
    "\n",
    "print(factorial(5))"
   ]
  },
  {
   "cell_type": "markdown",
   "metadata": {},
   "source": [
    "### Recursion was giving us maximum  depth exceeded.\n",
    "_We have to make sure that recursion stops somewhere and dont keep on going till infinity_\n",
    " - We add a _Base Case_\n",
    " - _We will not be making the function calls and everything and even think of recursion this deep._"
   ]
  },
  {
   "cell_type": "markdown",
   "metadata": {},
   "source": [
    "PMI - Principle of Mathematical Induction"
   ]
  },
  {
   "cell_type": "markdown",
   "metadata": {},
   "source": [
    "### _PMI - Principle of Mathematical Induction_"
   ]
  },
  {
   "cell_type": "markdown",
   "metadata": {},
   "source": [
    "### _In every recursion problem we need to apply PMI_\n",
    "_3 Steps -_\n",
    "- _Base Case_\n",
    "- _Assume for (n-1) smaller problem is true_\n",
    "- _Using Assumption in step 2 and base case, we can solve for bigger problem_\n",
    "- _Using Assumption in step 2 and if for n the problem is true, then the problem is true for all numbers_\n",
    "\n",
    "_We dont need to draw function calls over and over again_"
   ]
  },
  {
   "cell_type": "code",
   "execution_count": 20,
   "metadata": {},
   "outputs": [
    {
     "name": "stdout",
     "output_type": "stream",
     "text": [
      "32\n"
     ]
    }
   ],
   "source": [
    "# Find 2^n for a given n using recursion\n",
    "def power2(n):\n",
    "    if(n==1): #base class\n",
    "        return 2\n",
    "    \n",
    "    smallAns=power2(n-1) #Assumption -> Induction Hypothesis\n",
    "\n",
    "    ans = 2*smallAns # Using step 2 assumption this should be true so the solution will work for all numbers till base condition\n",
    "    return ans\n",
    "\n",
    "print(power2(5))"
   ]
  },
  {
   "cell_type": "code",
   "execution_count": 22,
   "metadata": {},
   "outputs": [
    {
     "name": "stdout",
     "output_type": "stream",
     "text": [
      "15\n",
      "55\n"
     ]
    }
   ],
   "source": [
    "# Sum of all Natural numbers upto n\n",
    "def sumOfNumbersTillN(n):\n",
    "    if(n==1):\n",
    "        return 1\n",
    "    \n",
    "    smallAns=sumOfNumbersTillN(n-1)\n",
    "\n",
    "    Ans =n+smallAns\n",
    "    return Ans\n",
    "\n",
    "print(sumOfNumbersTillN(5))\n",
    "print(sumOfNumbersTillN(10))"
   ]
  },
  {
   "cell_type": "markdown",
   "metadata": {},
   "source": [
    "### PMI Extended Form\n",
    "- Proof for base case f(0) or f(1)\n",
    "- Assume for f(i) equal to true\n",
    "    - where your i can be from 0<=i<=k\n",
    "    i.e. assumption is made that f(k),f(k-1)...f(base case) all are true\n",
    "- Then f(k+1) will also be true"
   ]
  },
  {
   "cell_type": "code",
   "execution_count": 2,
   "metadata": {},
   "outputs": [
    {
     "data": {
      "text/plain": [
       "21"
      ]
     },
     "execution_count": 2,
     "metadata": {},
     "output_type": "execute_result"
    }
   ],
   "source": [
    "# Sum of Digits of a number\n",
    "def sumOfDigits(num):\n",
    "    if(num>=0 and num<=9): #Base Case\n",
    "        return num\n",
    "    return (num%10)+(sumOfDigits(num//10))\n",
    "'''\n",
    "Also can be written as\n",
    "smallAns = sum(n//10) #Assumption to be True\n",
    "ans=(n%10)+smallAns # Recurrence Relation If Step 2 assumption is true this should be true for all values till base condition\n",
    "'''\n",
    "\n",
    "sumOfDigits(786)"
   ]
  },
  {
   "cell_type": "code",
   "execution_count": 3,
   "metadata": {},
   "outputs": [],
   "source": [
    "# Power of a number using recursion\n",
    "def powerOfNo(num,pow):\n",
    "    if(pow==0):\n",
    "        return 1\n",
    "    return num*powerOfNo(num,pow-1)"
   ]
  },
  {
   "cell_type": "code",
   "execution_count": 4,
   "metadata": {},
   "outputs": [
    {
     "data": {
      "text/plain": [
       "8"
      ]
     },
     "execution_count": 4,
     "metadata": {},
     "output_type": "execute_result"
    }
   ],
   "source": [
    "powerOfNo(2,3)"
   ]
  },
  {
   "cell_type": "code",
   "execution_count": null,
   "metadata": {},
   "outputs": [],
   "source": []
  }
 ],
 "metadata": {
  "kernelspec": {
   "display_name": "Python 3",
   "language": "python",
   "name": "python3"
  },
  "language_info": {
   "codemirror_mode": {
    "name": "ipython",
    "version": 3
   },
   "file_extension": ".py",
   "mimetype": "text/x-python",
   "name": "python",
   "nbconvert_exporter": "python",
   "pygments_lexer": "ipython3",
   "version": "3.12.4"
  }
 },
 "nbformat": 4,
 "nbformat_minor": 2
}
