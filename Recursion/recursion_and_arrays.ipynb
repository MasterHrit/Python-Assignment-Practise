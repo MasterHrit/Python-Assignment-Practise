{
 "cells": [
  {
   "cell_type": "markdown",
   "metadata": {},
   "source": [
    "### Recursion with Array/List\n",
    "- _How we can break array/list_\n",
    "- _Divide the array/list into smaller problems_"
   ]
  },
  {
   "cell_type": "markdown",
   "metadata": {},
   "source": [
    "***A problem that can be individually be applied to the left over part of broken array***"
   ]
  },
  {
   "cell_type": "markdown",
   "metadata": {},
   "source": [
    "### Ways to Break the array:\n",
    "- First or Last Element removed\n",
    "- Using Start and End Index (e.g. Binary Search)\n",
    "\n",
    "_Copy part into a new array and send for further calls_"
   ]
  },
  {
   "cell_type": "code",
   "execution_count": 3,
   "metadata": {},
   "outputs": [
    {
     "data": {
      "text/plain": [
       "False"
      ]
     },
     "execution_count": 3,
     "metadata": {},
     "output_type": "execute_result"
    }
   ],
   "source": [
    "# WAP to check if array is sorted\n",
    "# recurrence relation and recursion treee\n",
    "# Head and Tail recursion\n",
    "\n",
    "#Tail Recursion\n",
    "def issorted(arr):\n",
    "    #Base Case\n",
    "    if(len(arr)==0 or len(arr)==1):\n",
    "        return True\n",
    "    sortedarr=arr[1:]\n",
    "    ans= arr[0]<sortedarr[0] and issorted(sortedarr)\n",
    "    return ans\n",
    "\n",
    "issorted([1,2,3,4,7,2])"
   ]
  },
  {
   "cell_type": "code",
   "execution_count": 4,
   "metadata": {},
   "outputs": [
    {
     "data": {
      "text/plain": [
       "False"
      ]
     },
     "execution_count": 4,
     "metadata": {},
     "output_type": "execute_result"
    }
   ],
   "source": [
    "# Head Recursion\n",
    "def issorted(arr):\n",
    "    #Base Case\n",
    "    if(len(arr)==0 or len(arr)==1):\n",
    "        return True\n",
    "    sortedarr=arr[1:]\n",
    "    ans= issorted(sortedarr) and arr[0]<sortedarr[0]\n",
    "    return ans\n",
    "\n",
    "issorted([1,2,3,4,7,2])"
   ]
  },
  {
   "cell_type": "code",
   "execution_count": 8,
   "metadata": {},
   "outputs": [
    {
     "data": {
      "text/plain": [
       "14"
      ]
     },
     "execution_count": 8,
     "metadata": {},
     "output_type": "execute_result"
    }
   ],
   "source": [
    "# Sum of an Array\n",
    "# Head Recursion\n",
    "def sumOfArray(arr):\n",
    "    if(len(arr)==0):\n",
    "        return 0\n",
    "    elif(len(arr)==1):\n",
    "        return arr[0]\n",
    "    smallAns=sumOfArray(arr[1:])\n",
    "    ans=arr[0]+smallAns\n",
    "    return ans\n",
    "\n",
    "sumOfArray([9,2,3])"
   ]
  },
  {
   "cell_type": "code",
   "execution_count": 12,
   "metadata": {},
   "outputs": [
    {
     "data": {
      "text/plain": [
       "14"
      ]
     },
     "execution_count": 12,
     "metadata": {},
     "output_type": "execute_result"
    }
   ],
   "source": [
    "# Sum of Array using Tail Recursion\n",
    "def sumOfArray(arr,sum=0):\n",
    "    if(len(arr)==0):\n",
    "        return sum\n",
    "    sum+=arr[0]\n",
    "    return sumOfArray(arr[1:],sum)\n",
    "\n",
    "sumOfArray([9,2,3])"
   ]
  },
  {
   "cell_type": "code",
   "execution_count": 15,
   "metadata": {},
   "outputs": [
    {
     "data": {
      "text/plain": [
       "14"
      ]
     },
     "execution_count": 15,
     "metadata": {},
     "output_type": "execute_result"
    }
   ],
   "source": [
    "# breaking the array from last\n",
    "def sumOfArray(arr):\n",
    "    if(len(arr)==0):\n",
    "        return 0\n",
    "    elif(len(arr)==1):\n",
    "        return arr[0]\n",
    "    smallAns=sumOfArray(arr[:-1])\n",
    "    ans=smallAns+arr[-1]\n",
    "    return ans\n",
    "\n",
    "sumOfArray([9,2,3])"
   ]
  },
  {
   "cell_type": "code",
   "execution_count": 16,
   "metadata": {},
   "outputs": [
    {
     "data": {
      "text/plain": [
       "14"
      ]
     },
     "execution_count": 16,
     "metadata": {},
     "output_type": "execute_result"
    }
   ],
   "source": [
    "# Sum of Array breaking from end using Tail Recursion\n",
    "def sumOfArray(arr,sum=0):\n",
    "    if(len(arr)==0):\n",
    "        return sum\n",
    "    sum+=arr[-1]\n",
    "    return sumOfArray(arr[:-1],sum)\n",
    "\n",
    "sumOfArray([9,2,3])"
   ]
  },
  {
   "cell_type": "code",
   "execution_count": 19,
   "metadata": {},
   "outputs": [
    {
     "data": {
      "text/plain": [
       "-1"
      ]
     },
     "execution_count": 19,
     "metadata": {},
     "output_type": "execute_result"
    }
   ],
   "source": [
    "# Find First Element Index Using Recursion\n",
    "def firstIndex(arr,ele,count=0):\n",
    "    if(len(arr)==0):\n",
    "        return -1\n",
    "    if(arr[0]!=ele):\n",
    "        count+=1\n",
    "        return firstIndex(arr[1:],ele,count)\n",
    "    else:\n",
    "        return count\n",
    "\n",
    "firstIndex([1,2,3,4],5)"
   ]
  },
  {
   "cell_type": "code",
   "execution_count": 28,
   "metadata": {},
   "outputs": [
    {
     "data": {
      "text/plain": [
       "9"
      ]
     },
     "execution_count": 28,
     "metadata": {},
     "output_type": "execute_result"
    }
   ],
   "source": [
    "# Find last Element Index Using Recursion\n",
    "def lastIndex(arr,ele):\n",
    "    if(len(arr)==0):\n",
    "        return -1\n",
    "    if(arr[-1]!=ele):\n",
    "        return lastIndex(arr[:-1],ele)\n",
    "    else:\n",
    "        return len(arr)-1 #index of last element in sub array\n",
    "\n",
    "lastIndex([1,2,2,3,3,4,7,6,4,7,5,2],7)"
   ]
  },
  {
   "cell_type": "code",
   "execution_count": 46,
   "metadata": {},
   "outputs": [],
   "source": [
    "#Print All Index of Given Element in the Array\n",
    "def printAllIndicesOfAllElementHelper(arr,ele,index=0):\n",
    "    if(len(arr)==index):\n",
    "        return -1\n",
    "    \n",
    "    if(arr[index]==ele):\n",
    "        print(index)\n",
    "    \n",
    "    printAllIndicesOfAllElementHelper(arr,ele,index+1)"
   ]
  },
  {
   "cell_type": "code",
   "execution_count": 47,
   "metadata": {},
   "outputs": [],
   "source": [
    "# The defination of function is = l1,x dont have index\n",
    "# we can always create helper function\n",
    "def printAllIndicesOfAllElement(l1,x):\n",
    "    #Helper Function\n",
    "    return printAllIndicesOfAllElementHelper(l1,x,0)"
   ]
  },
  {
   "cell_type": "code",
   "execution_count": 50,
   "metadata": {},
   "outputs": [
    {
     "name": "stdout",
     "output_type": "stream",
     "text": [
      "1\n",
      "3\n",
      "5\n"
     ]
    }
   ],
   "source": [
    "printAllIndicesOfAllElementHelper([1, 2, 3, 2, 4, 2],2)"
   ]
  },
  {
   "cell_type": "markdown",
   "metadata": {},
   "source": [
    "***Take Away =***\n",
    "- _Not Slicing the array and using index_\n",
    "- _Helper Function_\n",
    "- _How we want the answer based on that recursion can be done first_"
   ]
  },
  {
   "cell_type": "code",
   "execution_count": 51,
   "metadata": {},
   "outputs": [
    {
     "data": {
      "text/plain": [
       "[2]"
      ]
     },
     "execution_count": 51,
     "metadata": {},
     "output_type": "execute_result"
    }
   ],
   "source": [
    "l1=[]\n",
    "a=2\n",
    "l1+=[a]\n",
    "l1"
   ]
  }
 ],
 "metadata": {
  "kernelspec": {
   "display_name": "Python 3",
   "language": "python",
   "name": "python3"
  },
  "language_info": {
   "codemirror_mode": {
    "name": "ipython",
    "version": 3
   },
   "file_extension": ".py",
   "mimetype": "text/x-python",
   "name": "python",
   "nbconvert_exporter": "python",
   "pygments_lexer": "ipython3",
   "version": "3.12.4"
  }
 },
 "nbformat": 4,
 "nbformat_minor": 2
}
